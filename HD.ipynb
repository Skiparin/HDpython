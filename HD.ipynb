{
 "cells": [
  {
   "cell_type": "code",
   "execution_count": 87,
   "metadata": {
    "collapsed": false,
    "deletable": true,
    "editable": true
   },
   "outputs": [],
   "source": [
    "import numpy as np\n",
    "import pandas as pd\n",
    "import requests\n",
    "import matplotlib.pyplot as plt\n",
    "\n",
    "url = \"https://raw.githubusercontent.com/stinaanita/python_data/master/human_development.csv\"\n",
    "response = requests.get(url, params={'downloadformat' : 'csv'})\n",
    "\n",
    "#print(response.headers)\n",
    "\n",
    "fname = \"human_development.csv\"\n",
    "\n",
    "if response.ok:\n",
    "    with open(fname, 'wb') as f:\n",
    "        f.write(response.content)\n",
    "\n",
    "csv = pd.read_csv(fname)\n",
    "\n",
    "dd = csv.as_matrix()"
   ]
  },
  {
   "cell_type": "code",
   "execution_count": 88,
   "metadata": {
    "collapsed": false,
    "deletable": true,
    "editable": true
   },
   "outputs": [
    {
     "name": "stdout",
     "output_type": "stream",
     "text": [
      "Which country has the highest HDI (Human Development Index) and which has the lowest?\n",
      "anwser: ['Norway']\n",
      "['Niger']\n"
     ]
    }
   ],
   "source": [
    "print(\"Which country has the highest HDI (Human Development Index) and which has the lowest?\")\n",
    "# Here we compare the entries in the 2. column to the amax of the same column to find the max and min HDI countries\n",
    "print(\"anwser: \" + str(dd[dd[:,2] == np.amax(dd[:,2])][:,1]))\n",
    "print(str(dd[dd[:,2] == np.amin(dd[:,2])][:,1]))"
   ]
  },
  {
   "cell_type": "code",
   "execution_count": 77,
   "metadata": {
    "collapsed": false,
    "deletable": true,
    "editable": true
   },
   "outputs": [],
   "source": [
    "url = \"https://raw.githubusercontent.com/stinaanita/python_data/master/historical_index.csv\"\n",
    "response = requests.get(url, params={'downloadformat' : 'csv'})\n",
    "\n",
    "#print(response.headers)\n",
    "\n",
    "fname = \"historical_index.csv\"\n",
    "\n",
    "if response.ok:\n",
    "    with open(fname, 'wb') as f:\n",
    "        f.write(response.content)\n",
    "\n",
    "csv = pd.read_csv(fname, dtype={8 : float})\n",
    "\n",
    "dd = csv.as_matrix()"
   ]
  },
  {
   "cell_type": "code",
   "execution_count": 83,
   "metadata": {
    "collapsed": false,
    "deletable": true,
    "editable": true
   },
   "outputs": [
    {
     "name": "stdout",
     "output_type": "stream",
     "text": [
      "Which country has raised its HDI the most, in the period 1990 to 2014?\n",
      "answer:  Rwanda\n"
     ]
    }
   ],
   "source": [
    "print(\"Which country has raised its HDI the most, in the period 1990 to 2014?\")\n",
    "# Mask to filter out invalid values from the dataset\n",
    "mask = (dd[:,2] != \"..\") & (dd[:,8] != \"..\")\n",
    "\n",
    "HD_1990 = dd[mask][:,2].astype(float)\n",
    "HD_2016 = dd[mask][:,8].astype(float)\n",
    "\n",
    "# Index of the max value from the dataset\n",
    "maxValue = np.argmax(np.subtract(HD_2016, HD_1990))\n",
    "print(\"answer: \", dd[mask][maxValue , 1])"
   ]
  },
  {
   "cell_type": "code",
   "execution_count": 28,
   "metadata": {
    "collapsed": true,
    "deletable": true,
    "editable": true
   },
   "outputs": [],
   "source": [
    "url = \"https://raw.githubusercontent.com/stinaanita/python_data/master/database.csv\"\n",
    "response = requests.get(url, params={'downloadformat' : 'csv'})\n",
    "\n",
    "#print(response.headers)\n",
    "\n",
    "fname = \"database.csv\"\n",
    "\n",
    "if response.ok:\n",
    "    with open(fname, 'wb') as f:\n",
    "        f.write(response.content)\n",
    "\n",
    "csv = pd.read_csv(fname)\n",
    "\n",
    "dd = csv.as_matrix()"
   ]
  },
  {
   "cell_type": "markdown",
   "metadata": {
    "deletable": true,
    "editable": true
   },
   "source": []
  },
  {
   "cell_type": "code",
   "execution_count": 29,
   "metadata": {
    "collapsed": false,
    "deletable": true,
    "editable": true
   },
   "outputs": [
    {
     "name": "stdout",
     "output_type": "stream",
     "text": [
      "Which country has the most satelites for military usage?\n",
      "answer: USA\n"
     ]
    }
   ],
   "source": [
    "print(\"Which country has the most satelites for military usage?\")\n",
    "Mil_a = dd[dd[:,4] == \"Military\"]\n",
    "\n",
    "# Find unique countries where their satelites are listed for military use and count up\n",
    "country, count = np.unique(Mil_a[:,3], return_counts=True)\n",
    "print(\"answer: \" + country[np.argmax(count)])"
   ]
  },
  {
   "cell_type": "code",
   "execution_count": 30,
   "metadata": {
    "collapsed": false,
    "deletable": true,
    "editable": true
   },
   "outputs": [
    {
     "name": "stdout",
     "output_type": "stream",
     "text": [
      "Which country has the lightest satelite and how much does it weight?\n",
      "Japan\n",
      "1\n"
     ]
    }
   ],
   "source": [
    "print(\"Which country has the lightest satelite and how much does it weight?\")\n",
    "# Specify the weight column from the dataset\n",
    "weight_col = dd[:,16]\n",
    "\n",
    "# Convert the values in the weight_col to numbers and set invalid entries to NaN\n",
    "dd1 = pd.to_numeric(weight_col, errors='coerce')\n",
    "\n",
    "# Print out the country with the lowest weighted satelite, ignring NaN values in the dataset\n",
    "print(dd[np.nanargmin(dd1)][1])\n",
    "print(dd[np.nanargmin(dd1)][16])"
   ]
  },
  {
   "cell_type": "code",
   "execution_count": 31,
   "metadata": {
    "collapsed": true
   },
   "outputs": [],
   "source": [
    "url = \"https://raw.githubusercontent.com/stinaanita/python_data/master/human_development.csv\"\n",
    "response = requests.get(url, params={'downloadformat' : 'csv'})\n",
    "\n",
    "#print(response.headers)\n",
    "\n",
    "fname = \"human_development.csv\"\n",
    "\n",
    "if response.ok:\n",
    "    with open(fname, 'wb') as f:\n",
    "        f.write(response.content)\n",
    "\n",
    "csv = pd.read_csv(fname)\n",
    "\n",
    "hdidd = csv.as_matrix()"
   ]
  },
  {
   "cell_type": "code",
   "execution_count": 73,
   "metadata": {
    "collapsed": false
   },
   "outputs": [
    {
     "name": "stdout",
     "output_type": "stream",
     "text": [
      "[array([], dtype=object), array(['Singapore', 'Singapore', 'Singapore', 'Singapore', 'Singapore',\n",
      "       'Singapore', 'Singapore', 'Singapore', 'Singapore'], dtype=object), array([], dtype=object), array([], dtype=object), array([], dtype=object)]\n",
      "[array([], dtype=object), array([], dtype=object), array([], dtype=object), array([], dtype=object), array([], dtype=object)]\n"
     ]
    }
   ],
   "source": [
    "# Specify GNI column\n",
    "gni = hdidd[:,6]\n",
    "\n",
    "# Replace , with nothing in the data and convert to numeric values\n",
    "gni_num = pd.to_numeric([s.replace(',','') for s in gni], errors=\"coerce\")\n",
    "\n",
    "# Set the column in the original dataset to our new clean column (gni_num)\n",
    "hdidd[:,6] = gni_num\n",
    "\n",
    "# Sort the data by GNI\n",
    "hdi_sorted = sorted(hdidd, key=lambda entry: entry[6])\n",
    "\n",
    "# Convert to nparray\n",
    "hdi = np.array(hdi_sorted)\n",
    "rich = hdi[-5:][:,1]\n",
    "poor = hdi[:5][:,1]\n",
    "\n",
    "rich_satelites = ([dd[(dd[:,3] == r)][:,3] for r in rich])\n",
    "print(rich_satelites)\n",
    "\n",
    "poor_satelites = ([dd[(dd[:,3] == p)][:,3] for p in poor])\n",
    "print(poor_satelites)"
   ]
  },
  {
   "cell_type": "code",
   "execution_count": null,
   "metadata": {
    "collapsed": true
   },
   "outputs": [],
   "source": []
  }
 ],
 "metadata": {
  "kernelspec": {
   "display_name": "Python 3",
   "language": "python",
   "name": "python3"
  },
  "language_info": {
   "codemirror_mode": {
    "name": "ipython",
    "version": 3
   },
   "file_extension": ".py",
   "mimetype": "text/x-python",
   "name": "python",
   "nbconvert_exporter": "python",
   "pygments_lexer": "ipython3",
   "version": "3.6.0"
  }
 },
 "nbformat": 4,
 "nbformat_minor": 2
}
