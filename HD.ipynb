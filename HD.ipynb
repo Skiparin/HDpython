{
 "cells": [
  {
   "cell_type": "code",
   "execution_count": 27,
   "metadata": {
    "collapsed": false,
    "deletable": true,
    "editable": true
   },
   "outputs": [],
   "source": [
    "import numpy as np\n",
    "import pandas as pd\n",
    "import requests\n",
    "import matplotlib.pyplot as plt\n",
    "\n",
    "url = \"https://raw.githubusercontent.com/stinaanita/python_data/master/human_development.csv\"\n",
    "response = requests.get(url, params={'downloadformat' : 'csv'})\n",
    "\n",
    "#print(response.headers)\n",
    "\n",
    "fname = \"human_development.csv\"\n",
    "\n",
    "if response.ok:\n",
    "    with open(fname, 'wb') as f:\n",
    "        f.write(response.content)\n",
    "\n",
    "csv = pd.read_csv(fname)\n",
    "\n",
    "dd = csv.as_matrix()"
   ]
  },
  {
   "cell_type": "code",
   "execution_count": 39,
   "metadata": {
    "collapsed": false,
    "deletable": true,
    "editable": true
   },
   "outputs": [
    {
     "name": "stdout",
     "output_type": "stream",
     "text": [
      "Which country has the highest HDI (Human Development Index) and which has the lowest?\n",
      "anwser: ['Norway']\n"
     ]
    }
   ],
   "source": [
    "print(\"Which country has the highest HDI (Human Development Index) and which has the lowest?\")\n",
    "print(\"anwser: \" + str(dd[dd[:,2] == np.amax(dd[:,2])][:,1]))"
   ]
  },
  {
   "cell_type": "code",
   "execution_count": 52,
   "metadata": {
    "collapsed": false,
    "deletable": true,
    "editable": true
   },
   "outputs": [],
   "source": [
    "url = \"https://raw.githubusercontent.com/stinaanita/python_data/master/historical_index.csv\"\n",
    "response = requests.get(url, params={'downloadformat' : 'csv'})\n",
    "\n",
    "#print(response.headers)\n",
    "\n",
    "fname = \"historical_index.csv\"\n",
    "\n",
    "if response.ok:\n",
    "    with open(fname, 'wb') as f:\n",
    "        f.write(response.content)\n",
    "\n",
    "csv = pd.read_csv(fname, dtype={8 : float})\n",
    "\n",
    "dd = csv.as_matrix()"
   ]
  },
  {
   "cell_type": "code",
   "execution_count": 84,
   "metadata": {
    "collapsed": false
   },
   "outputs": [
    {
     "name": "stdout",
     "output_type": "stream",
     "text": [
      "Which country has raised its HDI the most, in the period 1990 to 2014?\n",
      "Norway\n"
     ]
    },
    {
     "data": {
      "text/plain": [
       "0.84899999999999998"
      ]
     },
     "execution_count": 84,
     "metadata": {},
     "output_type": "execute_result"
    }
   ],
   "source": [
    "print(\"Which country has raised its HDI the most, in the period 1990 to 2014?\")\n",
    "mask = (dd[:,2] != \"..\") & (dd[:,8] != \"..\")\n",
    "HD_1990 = dd[mask][:,2].astype(float)\n",
    "HD_2016 = dd[mask][:,8].astype(float)\n",
    "maxValue = np.amax(np.subtract(HD_2016, HD_1990))\n",
    "print(\"answer: \" dd[mask][np.argmax(maxValue) , 1])"
   ]
  },
  {
   "cell_type": "code",
   "execution_count": 85,
   "metadata": {
    "collapsed": true
   },
   "outputs": [],
   "source": [
    "url = \"https://raw.githubusercontent.com/stinaanita/python_data/master/database.csv\"\n",
    "response = requests.get(url, params={'downloadformat' : 'csv'})\n",
    "\n",
    "#print(response.headers)\n",
    "\n",
    "fname = \"database.csv\"\n",
    "\n",
    "if response.ok:\n",
    "    with open(fname, 'wb') as f:\n",
    "        f.write(response.content)\n",
    "\n",
    "csv = pd.read_csv(fname)\n",
    "\n",
    "dd = csv.as_matrix()"
   ]
  },
  {
   "cell_type": "markdown",
   "metadata": {},
   "source": []
  },
  {
   "cell_type": "code",
   "execution_count": 93,
   "metadata": {
    "collapsed": false
   },
   "outputs": [
    {
     "name": "stdout",
     "output_type": "stream",
     "text": [
      "Which country has the most satelites for military usage?\n",
      "answer: USA\n"
     ]
    }
   ],
   "source": [
    "print(\"Which country has the most satelites for military usage?\")\n",
    "Mil_a = dd[dd[:,4] == \"Military\"]\n",
    "country, count = np.unique(Mil_a[:,3], return_counts=True)\n",
    "print(\"answer: \" + country[np.argmax(count)])"
   ]
  },
  {
   "cell_type": "code",
   "execution_count": 135,
   "metadata": {
    "collapsed": false
   },
   "outputs": [
    {
     "name": "stdout",
     "output_type": "stream",
     "text": [
      "Which country has the lightest satelite and how much does it weight?\n"
     ]
    },
    {
     "ename": "TypeError",
     "evalue": "unorderable types: str() > float()",
     "output_type": "error",
     "traceback": [
      "\u001b[0;31m---------------------------------------------------------------------------\u001b[0m",
      "\u001b[0;31mTypeError\u001b[0m                                 Traceback (most recent call last)",
      "\u001b[0;32m<ipython-input-135-0eb932523954>\u001b[0m in \u001b[0;36m<module>\u001b[0;34m()\u001b[0m\n\u001b[1;32m      1\u001b[0m \u001b[0mprint\u001b[0m\u001b[0;34m(\u001b[0m\u001b[0;34m\"Which country has the lightest satelite and how much does it weight?\"\u001b[0m\u001b[0;34m)\u001b[0m\u001b[0;34m\u001b[0m\u001b[0m\n\u001b[1;32m      2\u001b[0m \u001b[0mmask\u001b[0m \u001b[0;34m=\u001b[0m \u001b[0mdd\u001b[0m\u001b[0;34m[\u001b[0m\u001b[0;34m:\u001b[0m\u001b[0;34m,\u001b[0m\u001b[0;36m16\u001b[0m\u001b[0;34m]\u001b[0m\u001b[0;34m\u001b[0m\u001b[0m\n\u001b[0;32m----> 3\u001b[0;31m \u001b[0mprint\u001b[0m\u001b[0;34m(\u001b[0m\u001b[0mmask\u001b[0m\u001b[0;34m.\u001b[0m\u001b[0msort\u001b[0m\u001b[0;34m(\u001b[0m\u001b[0;34m)\u001b[0m\u001b[0;34m)\u001b[0m\u001b[0;34m\u001b[0m\u001b[0m\n\u001b[0m",
      "\u001b[0;31mTypeError\u001b[0m: unorderable types: str() > float()"
     ]
    }
   ],
   "source": [
    "print(\"Which country has the lightest satelite and how much does it weight?\")\n",
    "mask = dd[:,16]\n",
    "print(mask.sort())"
   ]
  },
  {
   "cell_type": "code",
   "execution_count": null,
   "metadata": {
    "collapsed": true
   },
   "outputs": [],
   "source": []
  }
 ],
 "metadata": {
  "kernelspec": {
   "display_name": "Python 3",
   "language": "python",
   "name": "python3"
  },
  "language_info": {
   "codemirror_mode": {
    "name": "ipython",
    "version": 3
   },
   "file_extension": ".py",
   "mimetype": "text/x-python",
   "name": "python",
   "nbconvert_exporter": "python",
   "pygments_lexer": "ipython3",
   "version": "3.4.3"
  }
 },
 "nbformat": 4,
 "nbformat_minor": 2
}
